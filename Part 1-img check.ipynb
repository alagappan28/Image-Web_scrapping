{
 "cells": [
  {
   "cell_type": "markdown",
   "metadata": {},
   "source": [
    "Part 1\n",
    "\n",
    "Let's get started!\n",
    "\n",
    "Image Check - First, let's check if an img url is active and not dead.\n"
   ]
  },
  {
   "cell_type": "markdown",
   "metadata": {},
   "source": [
    "Reading the .csv file"
   ]
  },
  {
   "cell_type": "code",
   "execution_count": 13,
   "metadata": {},
   "outputs": [],
   "source": [
    "import pandas as pd \n",
    "sample=pd.read_csv(\"sample_img_data.csv\")"
   ]
  },
  {
   "cell_type": "markdown",
   "metadata": {},
   "source": [
    "The request function returns the status of the image, True if the img link is active or False is returned."
   ]
  },
  {
   "cell_type": "code",
   "execution_count": 14,
   "metadata": {},
   "outputs": [],
   "source": [
    "import requests\n",
    "\n",
    "def exists(path):\n",
    "    r = requests.head(path)\n",
    "    return r.status_code == requests.codes.ok"
   ]
  },
  {
   "cell_type": "markdown",
   "metadata": {},
   "source": [
    "The following code loops over all the img links.\n",
    "Prints the id and status of all the image links that are not active.\n",
    "Replacing all False status by a blank space and is stored back as a .csv file."
   ]
  },
  {
   "cell_type": "code",
   "execution_count": 15,
   "metadata": {},
   "outputs": [
    {
     "name": "stdout",
     "output_type": "stream",
     "text": [
      "5 False\n",
      "6 False\n",
      "7 False\n",
      "8 False\n",
      "17 False\n",
      "19 False\n",
      "23 False\n",
      "24 False\n",
      "25 False\n",
      "66 False\n",
      "89 False\n"
     ]
    }
   ],
   "source": [
    "from PIL import Image\n",
    "import urllib.request\n",
    "for i in range(0,len(sample)):\n",
    "    url = sample.img_url[i]\n",
    "    status=exists(url)\n",
    "    if status==False:\n",
    "        print(i,status)\n",
    "        sample.img_url[i]=\"\""
   ]
  },
  {
   "cell_type": "code",
   "execution_count": 16,
   "metadata": {},
   "outputs": [],
   "source": [
    "df=pd.DataFrame(data=sample)        \n",
    "df.to_csv(\"sample_cleaned.csv\")"
   ]
  },
  {
   "cell_type": "code",
   "execution_count": null,
   "metadata": {},
   "outputs": [],
   "source": []
  }
 ],
 "metadata": {
  "kernelspec": {
   "display_name": "Python 3",
   "language": "python",
   "name": "python3"
  },
  "language_info": {
   "codemirror_mode": {
    "name": "ipython",
    "version": 3
   },
   "file_extension": ".py",
   "mimetype": "text/x-python",
   "name": "python",
   "nbconvert_exporter": "python",
   "pygments_lexer": "ipython3",
   "version": "3.6.6"
  }
 },
 "nbformat": 4,
 "nbformat_minor": 2
}
